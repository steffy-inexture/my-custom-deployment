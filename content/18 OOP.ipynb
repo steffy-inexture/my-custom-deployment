{
 "cells": [
  {
   "cell_type": "markdown",
   "metadata": {},
   "source": [
    "# The basics"
   ]
  },
  {
   "cell_type": "markdown",
   "metadata": {},
   "source": [
    "- Classes provide a means of __bundling data and functionality__ together.\n",
    "- Creating a new class creates __a new type of object, allowing new instances of that type__ to be made.\n",
    "- Each class instance can have __attributes__ attached to it for __maintaining its state.__\n",
    "- Class instances can also have __methods__ (defined by its class) for __modifying its state.__"
   ]
  },
  {
   "cell_type": "markdown",
   "metadata": {},
   "source": [
    "- Objects have __individuality__, and __multiple names__ (in multiple scopes) can be bound to the __same object.__"
   ]
  },
  {
   "cell_type": "markdown",
   "metadata": {},
   "source": [
    "## Class Definition Syntax"
   ]
  },
  {
   "cell_type": "markdown",
   "metadata": {},
   "source": [
    "- The simplest form of class definition looks like this:\n",
    "\n",
    "```python\n",
    "class ClassName:\n",
    "    <statement-1>\n",
    "    .\n",
    "    .\n",
    "    .\n",
    "    <statement-N>\n",
    "```"
   ]
  },
  {
   "cell_type": "markdown",
   "metadata": {},
   "source": [
    "- __Class definitions__, like function definitions (def statements) __must be executed before they have any effect__. (You could conceivably place a class definition in a branch of an if statement, or inside a function.)"
   ]
  },
  {
   "cell_type": "markdown",
   "metadata": {},
   "source": [
    "## Class Objects"
   ]
  },
  {
   "cell_type": "code",
   "execution_count": 1,
   "metadata": {},
   "outputs": [],
   "source": [
    "class MyClass:\n",
    "    \"\"\"A simple example class\"\"\"\n",
    "    i = 12345\n",
    "\n",
    "    def f(self):\n",
    "        return 'hello world'"
   ]
  },
  {
   "cell_type": "markdown",
   "metadata": {},
   "source": [
    "- Class instantiation uses function notation. Just pretend that the class object is a parameterless function that returns a new instance of the class."
   ]
  },
  {
   "cell_type": "code",
   "execution_count": 2,
   "metadata": {},
   "outputs": [],
   "source": [
    "x = MyClass()  # creates a new instance of the class and assigns this object to the local variable x."
   ]
  },
  {
   "cell_type": "markdown",
   "metadata": {},
   "source": [
    "- Many classes like to create objects with instances customized to a specific initial state. Therefore a class may define a special method named \\_\\_init\\_\\_(), like this:\n",
    "\n",
    "```python\n",
    "def __init__(self):\n",
    "    self.data = []\n",
    "```"
   ]
  },
  {
   "cell_type": "markdown",
   "metadata": {},
   "source": [
    "- When a class defines an \\_\\_init\\_\\_() method, class instantiation __automatically invokes \\_\\_init\\_\\_() for the newly-created class instance.__"
   ]
  },
  {
   "cell_type": "code",
   "execution_count": 4,
   "metadata": {},
   "outputs": [],
   "source": [
    "class Complex:\n",
    "    def __init__(self, realpart, imagpart):\n",
    "        self.r = realpart\n",
    "        self.i = imagpart"
   ]
  },
  {
   "cell_type": "code",
   "execution_count": 5,
   "metadata": {},
   "outputs": [],
   "source": [
    "x = Complex(3.0, -4.5)"
   ]
  },
  {
   "cell_type": "code",
   "execution_count": 8,
   "metadata": {},
   "outputs": [
    {
     "name": "stdout",
     "output_type": "stream",
     "text": [
      "x.r : 3.0\n",
      "x.i : -4.5\n"
     ]
    }
   ],
   "source": [
    "print(f\"x.r : {x.r}\")\n",
    "print(f\"x.i : {x.i}\")"
   ]
  },
  {
   "cell_type": "markdown",
   "metadata": {},
   "source": [
    "- __Data attributes need not be declared.__\n",
    "- They spring into existence when they are first assigned to."
   ]
  },
  {
   "cell_type": "code",
   "execution_count": 9,
   "metadata": {},
   "outputs": [],
   "source": [
    "x.ok = 12"
   ]
  },
  {
   "cell_type": "code",
   "execution_count": 10,
   "metadata": {},
   "outputs": [
    {
     "name": "stdout",
     "output_type": "stream",
     "text": [
      "12\n"
     ]
    }
   ],
   "source": [
    "print(x.ok)"
   ]
  },
  {
   "cell_type": "code",
   "execution_count": 12,
   "metadata": {},
   "outputs": [],
   "source": [
    "y = Complex(2, -2)"
   ]
  },
  {
   "cell_type": "code",
   "execution_count": 13,
   "metadata": {},
   "outputs": [
    {
     "ename": "AttributeError",
     "evalue": "'Complex' object has no attribute 'ok'",
     "output_type": "error",
     "traceback": [
      "\u001B[0;31m---------------------------------------------------------------------------\u001B[0m",
      "\u001B[0;31mAttributeError\u001B[0m                            Traceback (most recent call last)",
      "\u001B[0;32m<ipython-input-13-83c2ec271780>\u001B[0m in \u001B[0;36m<module>\u001B[0;34m\u001B[0m\n\u001B[0;32m----> 1\u001B[0;31m \u001B[0my\u001B[0m\u001B[0;34m.\u001B[0m\u001B[0mok\u001B[0m\u001B[0;34m\u001B[0m\u001B[0;34m\u001B[0m\u001B[0m\n\u001B[0m",
      "\u001B[0;31mAttributeError\u001B[0m: 'Complex' object has no attribute 'ok'"
     ]
    }
   ],
   "source": [
    "y.ok"
   ]
  },
  {
   "cell_type": "markdown",
   "metadata": {},
   "source": [
    "## Class and Instance Variables"
   ]
  },
  {
   "cell_type": "markdown",
   "metadata": {},
   "source": [
    "- __Instance variables__ are for data __unique to each instance__. \n",
    "- __Class variables__ are for attributes and methods __shared by all instances__ of the class."
   ]
  },
  {
   "cell_type": "code",
   "execution_count": 14,
   "metadata": {},
   "outputs": [],
   "source": [
    "class Dog:\n",
    "\n",
    "    kind = 'lab'         # class variable shared by all instances\n",
    "\n",
    "    def __init__(self, name):\n",
    "        self.name = name    # instance variable unique to each instance"
   ]
  },
  {
   "cell_type": "code",
   "execution_count": 15,
   "metadata": {},
   "outputs": [
    {
     "name": "stdout",
     "output_type": "stream",
     "text": [
      "d.kind: lab\n",
      "e.kind: lab\n",
      "d.name: Fido\n",
      "e.name: Buddy\n"
     ]
    }
   ],
   "source": [
    "d = Dog('Fido')\n",
    "e = Dog('Buddy')\n",
    "print(f\"d.kind: {d.kind}\")                  # shared by all dogs\n",
    "print(f\"e.kind: {e.kind}\")                  # shared by all dogs\n",
    "print(f\"d.name: {d.name}\")                  # unique to d\n",
    "print(f\"e.name: {e.name}\")                  # unique to e"
   ]
  },
  {
   "cell_type": "markdown",
   "metadata": {},
   "source": [
    "- __If the same attribute name occurs in both an instance and in a class, then attribute lookup prioritizes the instance:__"
   ]
  },
  {
   "cell_type": "code",
   "execution_count": 30,
   "metadata": {},
   "outputs": [],
   "source": [
    "class MyClass:\n",
    "    a = \"abc\"\n",
    "    b = \"def\"\n"
   ]
  },
  {
   "cell_type": "code",
   "execution_count": 31,
   "metadata": {},
   "outputs": [],
   "source": [
    "obj = MyClass()"
   ]
  },
  {
   "cell_type": "code",
   "execution_count": 32,
   "metadata": {},
   "outputs": [
    {
     "data": {
      "text/plain": [
       "'abc'"
      ]
     },
     "execution_count": 32,
     "metadata": {},
     "output_type": "execute_result"
    }
   ],
   "source": [
    "obj.a"
   ]
  },
  {
   "cell_type": "code",
   "execution_count": 33,
   "metadata": {},
   "outputs": [
    {
     "data": {
      "text/plain": [
       "'def'"
      ]
     },
     "execution_count": 33,
     "metadata": {},
     "output_type": "execute_result"
    }
   ],
   "source": [
    "obj.b"
   ]
  },
  {
   "cell_type": "code",
   "execution_count": 34,
   "metadata": {},
   "outputs": [],
   "source": [
    "obj1 = MyClass()"
   ]
  },
  {
   "cell_type": "code",
   "execution_count": 35,
   "metadata": {},
   "outputs": [],
   "source": [
    "obj1.a = \"asdf\""
   ]
  },
  {
   "cell_type": "code",
   "execution_count": 36,
   "metadata": {},
   "outputs": [
    {
     "data": {
      "text/plain": [
       "'abc'"
      ]
     },
     "execution_count": 36,
     "metadata": {},
     "output_type": "execute_result"
    }
   ],
   "source": [
    "obj.a"
   ]
  },
  {
   "cell_type": "code",
   "execution_count": 37,
   "metadata": {},
   "outputs": [
    {
     "data": {
      "text/plain": [
       "'asdf'"
      ]
     },
     "execution_count": 37,
     "metadata": {},
     "output_type": "execute_result"
    }
   ],
   "source": [
    "obj1.a"
   ]
  },
  {
   "cell_type": "code",
   "execution_count": 38,
   "metadata": {},
   "outputs": [
    {
     "data": {
      "text/plain": [
       "'abc'"
      ]
     },
     "execution_count": 38,
     "metadata": {},
     "output_type": "execute_result"
    }
   ],
   "source": [
    "mc = MyClass()\n",
    "mc.a"
   ]
  },
  {
   "cell_type": "markdown",
   "metadata": {},
   "source": [
    "__Any function object that is a class attribute defines a method for instances of that class. It is not necessary that the function definition is textually enclosed in the class definition: assigning a function object to a local variable in the class is also ok.__"
   ]
  },
  {
   "cell_type": "code",
   "execution_count": 39,
   "metadata": {},
   "outputs": [],
   "source": [
    "# Function defined outside the class\n",
    "def f1(self, x, y):\n",
    "    return min(x, x+y)\n",
    "\n",
    "class C:\n",
    "    f = f1\n",
    "\n",
    "    def g(self):\n",
    "        return 'hello world'\n",
    "\n",
    "    h = g"
   ]
  },
  {
   "cell_type": "markdown",
   "metadata": {},
   "source": [
    "__Methods may call other methods by using method attributes of the self argument:__"
   ]
  },
  {
   "cell_type": "code",
   "execution_count": 40,
   "metadata": {},
   "outputs": [],
   "source": [
    "class Bag:\n",
    "    def __init__(self):\n",
    "        self.data = []\n",
    "\n",
    "    def add(self, x):\n",
    "        self.data.append(x)\n",
    "\n",
    "    def addtwice(self, x):\n",
    "        self.add(x)\n",
    "        self.add(x)"
   ]
  },
  {
   "cell_type": "markdown",
   "metadata": {},
   "source": [
    "## Inheritance"
   ]
  },
  {
   "cell_type": "markdown",
   "metadata": {},
   "source": [
    "```python\n",
    "class DerivedClassName(BaseClassName):\n",
    "    <statement-1>\n",
    "    .\n",
    "    .\n",
    "    .\n",
    "    <statement-N>\n",
    "```\n",
    "\n",
    "- And this is also correct:\n",
    "\n",
    "```python\n",
    "import modname\n",
    "\n",
    "class DerivedClassName(modname.BaseClassName):\n",
    "    <statement-1>\n",
    "    .\n",
    "    .\n",
    "    .\n",
    "    <statement-N>\n",
    "```"
   ]
  },
  {
   "cell_type": "markdown",
   "metadata": {},
   "source": [
    "- If a requested attribute is not found in the class, the search proceeds to look in the base class.\n",
    "- This rule is applied recursively if the base class itself is derived from some other class."
   ]
  },
  {
   "cell_type": "markdown",
   "metadata": {},
   "source": [
    "- __Derived classes may override methods of their base classes.__"
   ]
  },
  {
   "cell_type": "code",
   "execution_count": 41,
   "metadata": {},
   "outputs": [],
   "source": [
    "class A:\n",
    "    def method_a(self):\n",
    "        print(f\"memory addr of obj in A: {id(self)}\")\n",
    "        print(\"method_a from A\")\n",
    "        \n",
    "    def method_b(self):\n",
    "        self.method_a()\n",
    "        \n",
    "class B(A):\n",
    "    def method_a(self):\n",
    "        print(f\"memory addr of obj in B: {id(self)}\")\n",
    "        print(\"method_a from B\")\n",
    "#         A.method_a(self)\n",
    "        super().method_a()"
   ]
  },
  {
   "cell_type": "code",
   "execution_count": 46,
   "metadata": {},
   "outputs": [
    {
     "name": "stdout",
     "output_type": "stream",
     "text": [
      "memory addr of obj in B: 140706085495184\n",
      "method_a from B\n",
      "memory addr of obj in A: 140706085495184\n",
      "method_a from A\n"
     ]
    }
   ],
   "source": [
    "b = B()\n",
    "b.method_b()"
   ]
  },
  {
   "cell_type": "markdown",
   "metadata": {},
   "source": [
    "- Use isinstance() to check an instance’s type: isinstance(obj, int) will be True only if obj.\\_\\_class\\_\\_ is int or some class derived from int."
   ]
  },
  {
   "cell_type": "markdown",
   "metadata": {},
   "source": [
    "- Use issubclass() to check class inheritance: issubclass(bool, int) is True since bool is a subclass of int. However, issubclass(float, int) is False since float is not a subclass of int."
   ]
  },
  {
   "cell_type": "markdown",
   "metadata": {},
   "source": [
    "### Multiple Inheritance"
   ]
  },
  {
   "cell_type": "markdown",
   "metadata": {},
   "source": [
    "```python\n",
    "class DerivedClassName(Base1, Base2, Base3):\n",
    "    <statement-1>\n",
    "    .\n",
    "    .\n",
    "    .\n",
    "    <statement-N>\n",
    "```"
   ]
  },
  {
   "cell_type": "markdown",
   "metadata": {},
   "source": [
    "- If an attribute is not found in DerivedClassName, it is searched for in Base1, then (recursively) in the base classes of Base1, and if it was not found there, it was searched for in Base2, and so on."
   ]
  },
  {
   "cell_type": "markdown",
   "metadata": {},
   "source": [
    "- Dynamic ordering is necessary because all cases of multiple inheritance exhibit one or more diamond relationships (where at least one of the parent classes can be accessed through multiple paths from the bottommost class)."
   ]
  },
  {
   "cell_type": "markdown",
   "metadata": {},
   "source": [
    "## Private Variables"
   ]
  },
  {
   "attachments": {
    "image.png": {
     "image/png": "[encoded data removed]"
    }
   },
   "cell_type": "markdown",
   "metadata": {},
   "source": [
    "![image.png](attachment:image.png)"
   ]
  },
  {
   "attachments": {
    "image.png": {
     "image/png": "[encoded data removed]"
    }
   },
   "cell_type": "markdown",
   "metadata": {},
   "source": [
    "![image.png](attachment:image.png)"
   ]
  },
  {
   "cell_type": "code",
   "execution_count": 60,
   "metadata": {},
   "outputs": [],
   "source": [
    "class Mapping:\n",
    "    def __init__(self, iterable):\n",
    "        self.items_list = []\n",
    "        self.__update(iterable)\n",
    "\n",
    "    def update(self, iterable):\n",
    "        for item in iterable:\n",
    "            self.items_list.append(item)\n",
    "\n",
    "    __update = update   # private copy of original update() method\n",
    "\n",
    "class MappingSubclass(Mapping):\n",
    "\n",
    "    def update(self, keys, values):\n",
    "        # provides new signature for update()\n",
    "        # but does not break __init__()\n",
    "        for item in zip(keys, values):\n",
    "            self.items_list.append(item)"
   ]
  },
  {
   "cell_type": "markdown",
   "metadata": {},
   "source": [
    "- __Note that the mangling rules are designed mostly to avoid accidents; it still is possible to access or modify a variable that is considered private. This can even be useful in special circumstances, such as in the debugger.__"
   ]
  },
  {
   "cell_type": "markdown",
   "metadata": {},
   "source": [
    "# Getting our hands on writing classes"
   ]
  },
  {
   "cell_type": "code",
   "execution_count": 14,
   "metadata": {},
   "outputs": [],
   "source": [
    "# an empty employee class\n",
    "\n",
    "class RichKids:\n",
    "    pass"
   ]
  },
  {
   "cell_type": "code",
   "execution_count": 15,
   "metadata": {},
   "outputs": [],
   "source": [
    "kid_1 = RichKids()\n",
    "kid_2 = RichKids()"
   ]
  },
  {
   "cell_type": "code",
   "execution_count": 16,
   "metadata": {},
   "outputs": [
    {
     "name": "stdout",
     "output_type": "stream",
     "text": [
      "id(kid_1): 140662117974800\n",
      "id(kid_2): 140662117976144\n"
     ]
    }
   ],
   "source": [
    "print(f\"id(kid_1): {id(kid_1)}\")\n",
    "print(f\"id(kid_2): {id(kid_2)}\")"
   ]
  },
  {
   "cell_type": "code",
   "execution_count": 17,
   "metadata": {},
   "outputs": [],
   "source": [
    "# Instance variables need not be predefined in the class definition\n",
    "kid_1.name = \"Bruce Wayne\"\n",
    "kid_1.email = \"Dark.Knight@gotham.city\"\n",
    "kid_1.universe = \"DC\"\n",
    "\n",
    "kid_2.name = \"Tony Stark\"\n",
    "kid_2.email = \"Who.Cares@iamiron.man\"\n",
    "kid_2.universe = \"Marvel\""
   ]
  },
  {
   "cell_type": "code",
   "execution_count": 18,
   "metadata": {},
   "outputs": [
    {
     "name": "stdout",
     "output_type": "stream",
     "text": [
      "kid_1.name: Bruce Wayne\n",
      "kid_1.email: Dark.Knight@gotham.city\n",
      "kid_1.universe: DC\n",
      "\n",
      "\n",
      "================================\n",
      "\n",
      "\n",
      "kid_2.name: Tony Stark\n",
      "kid_2.email: Who.Cares@iamiron.man\n",
      "kid_2.universe: Marvel\n"
     ]
    }
   ],
   "source": [
    "print(f\"kid_1.name: {kid_1.name}\")\n",
    "print(f\"kid_1.email: {kid_1.email}\")\n",
    "print(f\"kid_1.universe: {kid_1.universe}\")\n",
    "\n",
    "print(\"\\n\\n================================\\n\\n\")\n",
    "\n",
    "print(f\"kid_2.name: {kid_2.name}\")\n",
    "print(f\"kid_2.email: {kid_2.email}\")\n",
    "print(f\"kid_2.universe: {kid_2.universe}\")"
   ]
  },
  {
   "cell_type": "markdown",
   "metadata": {},
   "source": [
    "__But this is the WORST way to do this.__"
   ]
  },
  {
   "cell_type": "code",
   "execution_count": 49,
   "metadata": {},
   "outputs": [],
   "source": [
    "class TheGods:\n",
    "    \n",
    "    def __init__(self, name, email, universe):\n",
    "        self.name = name\n",
    "        self.email = email\n",
    "        self.universe = universe\n",
    "        \n",
    "    def brag_about_self(self):\n",
    "        return f\"I am {self.name} from {self.universe} universe and I will save humans from aliens that I brought to earth in the first place\""
   ]
  },
  {
   "cell_type": "code",
   "execution_count": 50,
   "metadata": {},
   "outputs": [],
   "source": [
    "god_1 = TheGods(\"Princess Diana of Themyscira\", \"Bornby.Zeus@never.dies\", \"DC\")\n",
    "\n",
    "god_2 = TheGods(\"Son of odin and God of thunder The Thor\", \"Lost.Brother@got.fat\", \"Marvel\")"
   ]
  },
  {
   "cell_type": "code",
   "execution_count": 51,
   "metadata": {},
   "outputs": [
    {
     "name": "stdout",
     "output_type": "stream",
     "text": [
      "god_1.name: Princess Diana of Themyscira\n",
      "god_1.email: Bornby.Zeus@never.dies\n",
      "god_1.universe: DC\n",
      "\n",
      "\n",
      "================================\n",
      "\n",
      "\n",
      "god_2.name: Son of odin and God of thunder The Thor\n",
      "god_2.email: Lost.Brother@got.fat\n",
      "god_2.universe: Marvel\n"
     ]
    }
   ],
   "source": [
    "print(f\"god_1.name: {god_1.name}\")\n",
    "print(f\"god_1.email: {god_1.email}\")\n",
    "print(f\"god_1.universe: {god_1.universe}\")\n",
    "\n",
    "print(\"\\n\\n================================\\n\\n\")\n",
    "\n",
    "print(f\"god_2.name: {god_2.name}\")\n",
    "print(f\"god_2.email: {god_2.email}\")\n",
    "print(f\"god_2.universe: {god_2.universe}\")"
   ]
  },
  {
   "cell_type": "code",
   "execution_count": 52,
   "metadata": {},
   "outputs": [
    {
     "data": {
      "text/plain": [
       "'I am Princess Diana of Themyscira from DC universe and I will save humans from aliens that I brought to earth in the first place'"
      ]
     },
     "execution_count": 52,
     "metadata": {},
     "output_type": "execute_result"
    }
   ],
   "source": [
    "god_1.brag_about_self()"
   ]
  },
  {
   "cell_type": "code",
   "execution_count": 53,
   "metadata": {},
   "outputs": [
    {
     "data": {
      "text/plain": [
       "'I am Son of odin and God of thunder The Thor from Marvel universe and I will save humans from aliens that I brought to earth in the first place'"
      ]
     },
     "execution_count": 53,
     "metadata": {},
     "output_type": "execute_result"
    }
   ],
   "source": [
    "god_2.brag_about_self()"
   ]
  },
  {
   "cell_type": "markdown",
   "metadata": {},
   "source": [
    "- Notice that when you do ```object.method()``` the object or instance that calls the method is passed implicitly as first positional argument in ```method()```.\n",
    "\n",
    "__SO__\n",
    "\n",
    "```python\n",
    "def brag_about_self(self)\n",
    "```\n",
    "\n",
    "- Takes one position argument which is ```self```.\n",
    "- However, you can use any name instead of ```self```.\n",
    "\n",
    "```python\n",
    "def brag_about_self(asdf)\n",
    "```\n",
    "\n",
    "- This will also be fine just that now you can refer to the calling object with ```asdf```.\n",
    "\n",
    "\n",
    "__THAT IMPLIES__\n",
    "\n",
    "```python\n",
    "TheGods.brag_about_self(god_1)\n",
    "```\n",
    "\n",
    "- AND\n",
    "\n",
    "```python\n",
    "god_1.brag_about_self()\n",
    "```\n",
    "\n",
    "__Are essentially the same.__\n",
    "\n",
    "- This what is going on in the background when we do ```instance.method()```.\n",
    "- It transforms into ```Class.method(instance)```."
   ]
  },
  {
   "cell_type": "markdown",
   "metadata": {},
   "source": [
    "# Class variables"
   ]
  },
  {
   "cell_type": "code",
   "execution_count": 54,
   "metadata": {},
   "outputs": [],
   "source": [
    "class YoungTalent:\n",
    "    \n",
    "    abilities = ['Kick out bad guys']\n",
    "    power = 100\n",
    "    \n",
    "    def __init__(self, name, email, god_father):\n",
    "        self.name = name\n",
    "        self.email = email\n",
    "        self.god_father = god_father\n",
    "        \n",
    "    def add_ability(self, ability):\n",
    "        self.abilities.append(ability)\n",
    "#         self.abilities = [ability]\n",
    "\n",
    "    def change_power(self, power):\n",
    "        self.power = power"
   ]
  },
  {
   "cell_type": "code",
   "execution_count": 55,
   "metadata": {},
   "outputs": [],
   "source": [
    "spidy = YoungTalent(\"Peter Parker\", \"Lost.uncle@web.com\", \"Mr. Stark\")\n",
    "\n",
    "flash = YoungTalent(\"Barry Alen\", \"fastest.man.alive@zoom.com\", \"Dr. Harrison Wells\")"
   ]
  },
  {
   "cell_type": "code",
   "execution_count": 56,
   "metadata": {},
   "outputs": [
    {
     "name": "stdout",
     "output_type": "stream",
     "text": [
      "spidy can: ['Kick out bad guys']\n",
      "spidy's power: 100\n"
     ]
    }
   ],
   "source": [
    "print(f\"spidy can: {spidy.abilities}\")\n",
    "print(f'spidy\\'s power: {spidy.power}')"
   ]
  },
  {
   "cell_type": "code",
   "execution_count": 57,
   "metadata": {},
   "outputs": [
    {
     "name": "stdout",
     "output_type": "stream",
     "text": [
      "Flash can: ['Kick out bad guys']\n",
      "Flash's power: 100\n"
     ]
    }
   ],
   "source": [
    "print(f\"Flash can: {flash.abilities}\")\n",
    "print(f\"Flash's power: {flash.power}\")"
   ]
  },
  {
   "cell_type": "code",
   "execution_count": 58,
   "metadata": {},
   "outputs": [],
   "source": [
    "spidy.add_ability(\"Create and throw webs\")\n",
    "spidy.change_power(5000)"
   ]
  },
  {
   "cell_type": "code",
   "execution_count": 59,
   "metadata": {},
   "outputs": [],
   "source": [
    "flash.add_ability(\"Run really fast\")\n",
    "flash.change_power(6000)"
   ]
  },
  {
   "cell_type": "code",
   "execution_count": 60,
   "metadata": {},
   "outputs": [
    {
     "name": "stdout",
     "output_type": "stream",
     "text": [
      "spidy can: ['Kick out bad guys', 'Create and throw webs', 'Run really fast']\n",
      "spidy's power: 5000\n"
     ]
    }
   ],
   "source": [
    "print(f\"spidy can: {spidy.abilities}\")\n",
    "print(f'spidy\\'s power: {spidy.power}')"
   ]
  },
  {
   "cell_type": "code",
   "execution_count": 61,
   "metadata": {},
   "outputs": [
    {
     "name": "stdout",
     "output_type": "stream",
     "text": [
      "Flash can: ['Kick out bad guys', 'Create and throw webs', 'Run really fast']\n",
      "Flash's power: 6000\n"
     ]
    }
   ],
   "source": [
    "print(f\"Flash can: {flash.abilities}\")\n",
    "print(f\"Flash's power: {flash.power}\")"
   ]
  },
  {
   "cell_type": "markdown",
   "metadata": {},
   "source": [
    "**REALLY IMP**\n",
    "\n",
    "__When you _MUTATE_ a class variable it will change for all the instances of that class but when you _ASSIGN_ it using ```self.attribute = value``` it will change only for that object__"
   ]
  },
  {
   "cell_type": "markdown",
   "metadata": {},
   "source": [
    "__If you want to change an immutable value for all the instances of a class then use ```ClassName.attribute = value``` or do ```cls.attribute = value```__\n",
    "\n",
    "\n",
    "```python\n",
    "@classmethod\n",
    "def change_power(cls, power):\n",
    "        cls.power = power\n",
    "        \n",
    "\n",
    "YoungTalent.change_power(200)\n",
    "\n",
    "\n",
    "YoungTalent.power = 200\n",
    "\n",
    "```\n",
    "\n",
    "__NOTE: Above method will not affect any object that has already changed it's value using ```self```.__\n",
    "\n",
    "\n",
    "__This magic is done with the help of NAMESPACES of object and it's class.__\n",
    "\n",
    "__SEE instance.\\_\\_dict\\_\\_ before and after changing the values.__"
   ]
  },
  {
   "cell_type": "markdown",
   "metadata": {},
   "source": [
    "## Real life example of class varaibles"
   ]
  },
  {
   "cell_type": "code",
   "execution_count": 63,
   "metadata": {},
   "outputs": [],
   "source": [
    "class Employee:\n",
    "    \n",
    "    num_of_emps = 0          # Always same for all the instances of class\n",
    "    raise_amount = 1.04      # May differ from employee to employee\n",
    "    \n",
    "    def __init__(self, first_name, last_name, salary):\n",
    "        self.first_name = first_name\n",
    "        self.last_name = last_name\n",
    "        self.salary = salary\n",
    "        self.email = first_name + '.' + last_name + \"@inexture.com\"\n",
    "        \n",
    "        Employee.num_of_emps +=  1\n",
    "        \n",
    "        \n",
    "    def full_name(self):\n",
    "        return f\"{self.first_name} {self.last_name}\"\n",
    "    \n",
    "    def apply_raise(self):\n",
    "        print(f\"Raising the salary with amount: {self.raise_amount}\")\n",
    "        self.salary = int(self.salary*self.raise_amount)"
   ]
  },
  {
   "cell_type": "code",
   "execution_count": 64,
   "metadata": {},
   "outputs": [],
   "source": [
    "emp_1 = Employee(\"Tom\", \"Cat\", 50000)\n",
    "emp_2 = Employee(\"Jerry\", \"Mouse\", 60000)"
   ]
  },
  {
   "cell_type": "code",
   "execution_count": 65,
   "metadata": {},
   "outputs": [
    {
     "data": {
      "text/plain": [
       "{'first_name': 'Tom',\n",
       " 'last_name': 'Cat',\n",
       " 'salary': 50000,\n",
       " 'email': 'Tom.Cat@inexture.com'}"
      ]
     },
     "execution_count": 65,
     "metadata": {},
     "output_type": "execute_result"
    }
   ],
   "source": [
    "emp_1.__dict__"
   ]
  },
  {
   "cell_type": "code",
   "execution_count": 66,
   "metadata": {},
   "outputs": [
    {
     "data": {
      "text/plain": [
       "{'first_name': 'Jerry',\n",
       " 'last_name': 'Mouse',\n",
       " 'salary': 60000,\n",
       " 'email': 'Jerry.Mouse@inexture.com'}"
      ]
     },
     "execution_count": 66,
     "metadata": {},
     "output_type": "execute_result"
    }
   ],
   "source": [
    "emp_2.__dict__"
   ]
  },
  {
   "cell_type": "code",
   "execution_count": 67,
   "metadata": {},
   "outputs": [
    {
     "name": "stdout",
     "output_type": "stream",
     "text": [
      "1.04\n",
      "1.04\n",
      "1.04\n"
     ]
    }
   ],
   "source": [
    "print(emp_1.raise_amount)\n",
    "print(emp_2.raise_amount)\n",
    "print(Employee.raise_amount)"
   ]
  },
  {
   "cell_type": "code",
   "execution_count": 68,
   "metadata": {},
   "outputs": [],
   "source": [
    "emp_1.raise_amount = 1.05"
   ]
  },
  {
   "cell_type": "code",
   "execution_count": 69,
   "metadata": {},
   "outputs": [
    {
     "data": {
      "text/plain": [
       "{'first_name': 'Tom',\n",
       " 'last_name': 'Cat',\n",
       " 'salary': 50000,\n",
       " 'email': 'Tom.Cat@inexture.com',\n",
       " 'raise_amount': 1.05}"
      ]
     },
     "execution_count": 69,
     "metadata": {},
     "output_type": "execute_result"
    }
   ],
   "source": [
    "emp_1.__dict__"
   ]
  },
  {
   "cell_type": "code",
   "execution_count": 70,
   "metadata": {},
   "outputs": [
    {
     "data": {
      "text/plain": [
       "{'first_name': 'Jerry',\n",
       " 'last_name': 'Mouse',\n",
       " 'salary': 60000,\n",
       " 'email': 'Jerry.Mouse@inexture.com'}"
      ]
     },
     "execution_count": 70,
     "metadata": {},
     "output_type": "execute_result"
    }
   ],
   "source": [
    "emp_2.__dict__"
   ]
  },
  {
   "cell_type": "code",
   "execution_count": 71,
   "metadata": {},
   "outputs": [
    {
     "name": "stdout",
     "output_type": "stream",
     "text": [
      "1.05\n",
      "1.04\n",
      "1.04\n"
     ]
    }
   ],
   "source": [
    "print(emp_1.raise_amount)\n",
    "print(emp_2.raise_amount)\n",
    "print(Employee.raise_amount)"
   ]
  },
  {
   "cell_type": "code",
   "execution_count": 155,
   "metadata": {},
   "outputs": [
    {
     "data": {
      "text/plain": [
       "mappingproxy({'__module__': '__main__',\n",
       "              'num_of_emps': 2,\n",
       "              'raise_amount': 1.04,\n",
       "              '__init__': <function __main__.Employee.__init__(self, first_name, last_name, salary)>,\n",
       "              'full_name': <function __main__.Employee.full_name(self)>,\n",
       "              'apply_raise': <function __main__.Employee.apply_raise(self)>,\n",
       "              '__dict__': <attribute '__dict__' of 'Employee' objects>,\n",
       "              '__weakref__': <attribute '__weakref__' of 'Employee' objects>,\n",
       "              '__doc__': None})"
      ]
     },
     "execution_count": 155,
     "metadata": {},
     "output_type": "execute_result"
    }
   ],
   "source": [
    "Employee.__dict__"
   ]
  },
  {
   "cell_type": "code",
   "execution_count": 156,
   "metadata": {},
   "outputs": [
    {
     "name": "stdout",
     "output_type": "stream",
     "text": [
      "Raising the salary with amount: 1.05\n",
      "Raising the salary with amount: 1.04\n"
     ]
    }
   ],
   "source": [
    "emp_1.apply_raise()\n",
    "emp_2.apply_raise()"
   ]
  },
  {
   "cell_type": "markdown",
   "metadata": {
    "heading_collapsed": true
   },
   "source": [
    "# Class methods"
   ]
  },
  {
   "cell_type": "code",
   "execution_count": 176,
   "metadata": {
    "hidden": true
   },
   "outputs": [],
   "source": [
    "class Employee:\n",
    "    \n",
    "    num_of_emps = 0          # Always same for all the instances of class\n",
    "    raise_amount = 1.04      # May differ from employee to employee\n",
    "    \n",
    "    def __init__(self, first_name, last_name, salary):\n",
    "        self.first_name = first_name\n",
    "        self.last_name = last_name\n",
    "        self.salary = salary\n",
    "        self.email = f'{first_name}.{last_name}@inexture.com'\n",
    "\n",
    "        Employee.num_of_emps +=  1\n",
    "        \n",
    "        \n",
    "    def full_name(self):\n",
    "        return f\"{self.first_name} {self.last_name}\"\n",
    "    \n",
    "    def apply_raise(self):\n",
    "        print(f\"Raising the salary with amount: {self.raise_amount}\")\n",
    "        self.salary = int(self.salary*self.raise_amount)\n",
    "        \n",
    "    @classmethod\n",
    "    def set_raise_amount(cls, amount):\n",
    "        cls.raise_amount = amount\n",
    "    \n",
    "    @classmethod\n",
    "    def from_string(cls, string):\n",
    "        first_name, last_name, salary = string.split('-')\n",
    "        return cls(first_name, last_name, int(salary))"
   ]
  },
  {
   "cell_type": "code",
   "execution_count": 177,
   "metadata": {
    "hidden": true
   },
   "outputs": [],
   "source": [
    "emp_1 = Employee(\"John\", \"silvesa\", \"10000000\")\n",
    "emp_2 = Employee(\"Corey\", \"Schafer\", \"2000000\")"
   ]
  },
  {
   "cell_type": "code",
   "execution_count": 178,
   "metadata": {
    "hidden": true
   },
   "outputs": [
    {
     "name": "stdout",
     "output_type": "stream",
     "text": [
      "emp_1.raise_amount = 1.04\n",
      "emp_2.raise_amount = 1.04\n"
     ]
    }
   ],
   "source": [
    "print(f\"emp_1.raise_amount = {emp_1.raise_amount}\")\n",
    "print(f\"emp_2.raise_amount = {emp_2.raise_amount}\")"
   ]
  },
  {
   "cell_type": "code",
   "execution_count": 179,
   "metadata": {
    "hidden": true
   },
   "outputs": [],
   "source": [
    "Employee.set_raise_amount(1.05)"
   ]
  },
  {
   "cell_type": "code",
   "execution_count": 180,
   "metadata": {
    "hidden": true
   },
   "outputs": [
    {
     "name": "stdout",
     "output_type": "stream",
     "text": [
      "emp_1.raise_amount = 1.05\n",
      "emp_2.raise_amount = 1.05\n"
     ]
    }
   ],
   "source": [
    "print(f\"emp_1.raise_amount = {emp_1.raise_amount}\")\n",
    "print(f\"emp_2.raise_amount = {emp_2.raise_amount}\")"
   ]
  },
  {
   "cell_type": "code",
   "execution_count": 181,
   "metadata": {
    "hidden": true
   },
   "outputs": [],
   "source": [
    "emp_1.set_raise_amount(1.04)"
   ]
  },
  {
   "cell_type": "code",
   "execution_count": 182,
   "metadata": {
    "hidden": true
   },
   "outputs": [
    {
     "name": "stdout",
     "output_type": "stream",
     "text": [
      "emp_1.raise_amount = 1.04\n",
      "emp_2.raise_amount = 1.04\n"
     ]
    }
   ],
   "source": [
    "print(f\"emp_1.raise_amount = {emp_1.raise_amount}\")\n",
    "print(f\"emp_2.raise_amount = {emp_2.raise_amount}\")"
   ]
  },
  {
   "cell_type": "code",
   "execution_count": 183,
   "metadata": {
    "hidden": true
   },
   "outputs": [],
   "source": [
    "emp_3 = Employee.from_string(\"Lion-king-10000000\")"
   ]
  },
  {
   "cell_type": "code",
   "execution_count": 184,
   "metadata": {
    "hidden": true
   },
   "outputs": [
    {
     "data": {
      "text/plain": [
       "'Lion king'"
      ]
     },
     "execution_count": 184,
     "metadata": {},
     "output_type": "execute_result"
    }
   ],
   "source": [
    "emp_3.full_name()"
   ]
  },
  {
   "cell_type": "code",
   "execution_count": 185,
   "metadata": {
    "hidden": true
   },
   "outputs": [
    {
     "data": {
      "text/plain": [
       "10000000"
      ]
     },
     "execution_count": 185,
     "metadata": {},
     "output_type": "execute_result"
    }
   ],
   "source": [
    "emp_3.salary"
   ]
  },
  {
   "cell_type": "markdown",
   "metadata": {
    "heading_collapsed": true
   },
   "source": [
    "# Static method\n",
    "\n",
    "\n",
    "- You do not use any instance or class itself or any attributes in that case when you create a static method."
   ]
  },
  {
   "cell_type": "code",
   "execution_count": 187,
   "metadata": {
    "hidden": true
   },
   "outputs": [],
   "source": [
    "class Employee:\n",
    "    \n",
    "    num_of_emps = 0          # Always same for all the instances of class\n",
    "    raise_amount = 1.04      # May differ from employee to employee\n",
    "    \n",
    "    def __init__(self, first_name, last_name, salary):\n",
    "        self.first_name = first_name\n",
    "        self.last_name = last_name\n",
    "        self.salary = salary\n",
    "        self.email = first_name + '.' + last_name + \"@inexture.com\"\n",
    "        \n",
    "        Employee.num_of_emps +=  1\n",
    "        \n",
    "        \n",
    "    def full_name(self):\n",
    "        return f\"{self.first_name} {self.last_name}\"\n",
    "    \n",
    "    def apply_raise(self):\n",
    "        print(f\"Raising the salary with amount: {self.raise_amount}\")\n",
    "        self.salary = int(self.salary*self.raise_amount)\n",
    "        \n",
    "    @classmethod\n",
    "    def set_raise_amount(cls, amount):\n",
    "        cls.raise_amount = amount\n",
    "    \n",
    "    @classmethod\n",
    "    def from_string(cls, string):\n",
    "        first_name, last_name, salary = string.split('-')\n",
    "        return cls(first_name, last_name, int(salary))\n",
    "    \n",
    "    @staticmethod\n",
    "    def is_weekend(day):\n",
    "        return day.weekday() == 5 or day.weekday() == 6"
   ]
  },
  {
   "cell_type": "code",
   "execution_count": 190,
   "metadata": {
    "hidden": true
   },
   "outputs": [
    {
     "data": {
      "text/plain": [
       "True"
      ]
     },
     "execution_count": 190,
     "metadata": {},
     "output_type": "execute_result"
    }
   ],
   "source": [
    "import datetime\n",
    "\n",
    "my_date = datetime.date(2020, 1, 12)\n",
    "\n",
    "Employee.is_weekend(my_date)"
   ]
  },
  {
   "cell_type": "markdown",
   "metadata": {
    "heading_collapsed": true
   },
   "source": [
    "# Inheritance"
   ]
  },
  {
   "cell_type": "code",
   "execution_count": 191,
   "metadata": {
    "hidden": true
   },
   "outputs": [],
   "source": [
    "class Developer(Employee):\n",
    "    \n",
    "    def __init__(self, first_name, last_name, salary, prog_lang):\n",
    "        super().__init__(first_name, last_name, salary)\n",
    "        self.prog_lang = prog_lang"
   ]
  },
  {
   "cell_type": "code",
   "execution_count": 192,
   "metadata": {
    "hidden": true
   },
   "outputs": [],
   "source": [
    "dev_1 = Developer(\"Pritesh\", \"Thaker\", 10000000, \"Python\")"
   ]
  },
  {
   "cell_type": "code",
   "execution_count": 193,
   "metadata": {
    "hidden": true
   },
   "outputs": [
    {
     "data": {
      "text/plain": [
       "'Pritesh Thaker'"
      ]
     },
     "execution_count": 193,
     "metadata": {},
     "output_type": "execute_result"
    }
   ],
   "source": [
    "dev_1.full_name()"
   ]
  },
  {
   "cell_type": "code",
   "execution_count": 194,
   "metadata": {
    "hidden": true
   },
   "outputs": [
    {
     "data": {
      "text/plain": [
       "10000000"
      ]
     },
     "execution_count": 194,
     "metadata": {},
     "output_type": "execute_result"
    }
   ],
   "source": [
    "dev_1.salary"
   ]
  },
  {
   "cell_type": "code",
   "execution_count": 195,
   "metadata": {
    "hidden": true
   },
   "outputs": [
    {
     "data": {
      "text/plain": [
       "'Python'"
      ]
     },
     "execution_count": 195,
     "metadata": {},
     "output_type": "execute_result"
    }
   ],
   "source": [
    "dev_1.prog_lang"
   ]
  },
  {
   "cell_type": "markdown",
   "metadata": {
    "heading_collapsed": true
   },
   "source": [
    "# Special / Dunder / Magic methods"
   ]
  },
  {
   "cell_type": "code",
   "execution_count": 197,
   "metadata": {
    "hidden": true
   },
   "outputs": [
    {
     "name": "stdout",
     "output_type": "stream",
     "text": [
      "<__main__.Developer object at 0x7fee900fe2d0>\n"
     ]
    }
   ],
   "source": [
    "print(dev_1)"
   ]
  },
  {
   "cell_type": "code",
   "execution_count": 198,
   "metadata": {
    "hidden": true
   },
   "outputs": [
    {
     "data": {
      "text/plain": [
       "'<__main__.Developer object at 0x7fee900fe2d0>'"
      ]
     },
     "execution_count": 198,
     "metadata": {},
     "output_type": "execute_result"
    }
   ],
   "source": [
    "repr(dev_1)"
   ]
  },
  {
   "cell_type": "code",
   "execution_count": 199,
   "metadata": {
    "hidden": true
   },
   "outputs": [
    {
     "data": {
      "text/plain": [
       "'<__main__.Developer object at 0x7fee900fe2d0>'"
      ]
     },
     "execution_count": 199,
     "metadata": {},
     "output_type": "execute_result"
    }
   ],
   "source": [
    "str(dev_1)"
   ]
  },
  {
   "cell_type": "markdown",
   "metadata": {
    "hidden": true
   },
   "source": [
    "1. __repr__\n",
    "\n",
    "    - Used for describing object and debugging and logging purposes.\n",
    "\n",
    "\n",
    "\n",
    "\n",
    "2. __str__\n",
    "\n",
    "    - Used for displaying object to end-user"
   ]
  },
  {
   "cell_type": "code",
   "execution_count": 234,
   "metadata": {
    "hidden": true
   },
   "outputs": [],
   "source": [
    "class Employee:\n",
    "    \n",
    "    num_of_emps = 0          # Always same for all the instances of class\n",
    "    raise_amount = 1.04      # May differ from employee to employee\n",
    "    \n",
    "    def __init__(self, first_name, last_name, salary):\n",
    "        self.first_name = first_name\n",
    "        self.last_name = last_name\n",
    "        self.salary = salary\n",
    "        self.email = first_name + '.' + last_name + \"@inexture.com\"\n",
    "        \n",
    "        Employee.num_of_emps +=  1\n",
    "        \n",
    "        \n",
    "    def full_name(self):\n",
    "        return f\"{self.first_name} {self.last_name}\"\n",
    "    \n",
    "    def apply_raise(self):\n",
    "        print(f\"Raising the salary with amount: {self.raise_amount}\")\n",
    "        self.salary = int(self.salary*self.raise_amount)\n",
    "        \n",
    "    @classmethod\n",
    "    def set_raise_amount(cls, amount):\n",
    "        cls.raise_amount = amount\n",
    "    \n",
    "    @classmethod\n",
    "    def from_string(cls, string):\n",
    "        first_name, last_name, salary = string.split('-')\n",
    "        return cls(first_name, last_name, int(salary))\n",
    "    \n",
    "    @staticmethod\n",
    "    def is_weekend(day):\n",
    "        return day.weekday() == 5 or day.weekday() == 6\n",
    "    \n",
    "    def __repr__(self):\n",
    "        return f\"Employee('{self.first_name}', '{self.last_name}', {self.salary})\"\n",
    "    \n",
    "    def __str__(self):\n",
    "        return f\"{self.full_name()} : {self.email}\"\n",
    "    \n",
    "    def __add__(self, other):\n",
    "        return self.salary + other.salary"
   ]
  },
  {
   "cell_type": "code",
   "execution_count": 235,
   "metadata": {
    "hidden": true
   },
   "outputs": [],
   "source": [
    "emp_1 = Employee(\"Tom\", \"Cat\", 50000)"
   ]
  },
  {
   "cell_type": "code",
   "execution_count": 236,
   "metadata": {
    "hidden": true
   },
   "outputs": [
    {
     "name": "stdout",
     "output_type": "stream",
     "text": [
      "Tom Cat : Tom.Cat@inexture.com\n"
     ]
    }
   ],
   "source": [
    "print(emp_1)"
   ]
  },
  {
   "cell_type": "code",
   "execution_count": 237,
   "metadata": {
    "hidden": true
   },
   "outputs": [
    {
     "data": {
      "text/plain": [
       "\"Employee('Tom', 'Cat', 50000)\""
      ]
     },
     "execution_count": 237,
     "metadata": {},
     "output_type": "execute_result"
    }
   ],
   "source": [
    "repr(emp_1)  # same as emp_1.__repr__()."
   ]
  },
  {
   "cell_type": "code",
   "execution_count": 238,
   "metadata": {
    "hidden": true
   },
   "outputs": [
    {
     "data": {
      "text/plain": [
       "'Tom Cat : Tom.Cat@inexture.com'"
      ]
     },
     "execution_count": 238,
     "metadata": {},
     "output_type": "execute_result"
    }
   ],
   "source": [
    "str(emp_1)  # same as emp_1.__str__().\n",
    "            # when __str__() is not defined it uses __repr__() internally. "
   ]
  },
  {
   "cell_type": "code",
   "execution_count": 239,
   "metadata": {
    "hidden": true
   },
   "outputs": [
    {
     "name": "stdout",
     "output_type": "stream",
     "text": [
      "Tom Cat : Tom.Cat@inexture.com\n"
     ]
    }
   ],
   "source": [
    "print(emp_1)  # print calls instance.__str__() internally."
   ]
  },
  {
   "cell_type": "markdown",
   "metadata": {
    "hidden": true
   },
   "source": [
    "__Let's have a look at some other special methods.__"
   ]
  },
  {
   "cell_type": "code",
   "execution_count": 240,
   "metadata": {
    "hidden": true
   },
   "outputs": [
    {
     "name": "stdout",
     "output_type": "stream",
     "text": [
      "3\n"
     ]
    }
   ],
   "source": [
    "# What happens when we do \n",
    "print(1 + 2)"
   ]
  },
  {
   "cell_type": "code",
   "execution_count": 241,
   "metadata": {
    "hidden": true
   },
   "outputs": [
    {
     "name": "stdout",
     "output_type": "stream",
     "text": [
      "3\n"
     ]
    }
   ],
   "source": [
    "# it is actually \n",
    "print(int.__add__(1, 2))"
   ]
  },
  {
   "cell_type": "code",
   "execution_count": 243,
   "metadata": {
    "hidden": true
   },
   "outputs": [],
   "source": [
    "# Let's try and add salary of 2 employee together\n",
    "emp_2 = Employee(\"Jerry\", \"Mouse\", 60000)"
   ]
  },
  {
   "cell_type": "code",
   "execution_count": 244,
   "metadata": {
    "hidden": true
   },
   "outputs": [
    {
     "data": {
      "text/plain": [
       "110000"
      ]
     },
     "execution_count": 244,
     "metadata": {},
     "output_type": "execute_result"
    }
   ],
   "source": [
    "emp_1 + emp_2"
   ]
  },
  {
   "cell_type": "markdown",
   "metadata": {
    "heading_collapsed": true
   },
   "source": [
    "# Property Decorators - Getters, Setters, and Deleters"
   ]
  },
  {
   "cell_type": "code",
   "execution_count": 251,
   "metadata": {
    "hidden": true
   },
   "outputs": [],
   "source": [
    "class Employee:\n",
    "    \n",
    "    num_of_emps = 0          # Always same for all the instances of class\n",
    "    raise_amount = 1.04      # May differ from employee to employee\n",
    "    \n",
    "    def __init__(self, first_name, last_name, salary):\n",
    "        self.first_name = first_name\n",
    "        self.last_name = last_name\n",
    "        self.salary = salary\n",
    "#         self.email = first_name + '.' + last_name + \"@inexture.com\"\n",
    "        \n",
    "        Employee.num_of_emps +=  1\n",
    "        \n",
    "        \n",
    "#     def full_name(self):\n",
    "#         return f\"{self.first_name} {self.last_name}\"\n",
    "    \n",
    "    def apply_raise(self):\n",
    "        print(f\"Raising the salary with amount: {self.raise_amount}\")\n",
    "        self.salary = int(self.salary*self.raise_amount)\n",
    "        \n",
    "    @classmethod\n",
    "    def set_raise_amount(cls, amount):\n",
    "        cls.raise_amount = amount\n",
    "    \n",
    "    @classmethod\n",
    "    def from_string(cls, string):\n",
    "        first_name, last_name, salary = string.split('-')\n",
    "        return cls(first_name, last_name, int(salary))\n",
    "    \n",
    "    @staticmethod\n",
    "    def is_weekend(day):\n",
    "        return day.weekday() == 5 or day.weekday() == 6\n",
    "    \n",
    "    def __repr__(self):\n",
    "        return f\"Employee('{self.first_name}', '{self.last_name}', {self.salary})\"\n",
    "    \n",
    "    def __str__(self):\n",
    "        return f\"{self.full_name()} : {self.email}\"\n",
    "    \n",
    "    def __add__(self, other):\n",
    "        return self.salary + other.salary\n",
    "    \n",
    "    @property\n",
    "    def email(self):\n",
    "        return f\"{self.first_name}.{self.last_name}@inexture.com\"\n",
    "    \n",
    "    @property\n",
    "    def full_name(self):\n",
    "        return f\"{self.first_name} {self.last_name}\"\n",
    "    \n",
    "    @full_name.setter\n",
    "    def full_name(self, name):\n",
    "        self.first_name, self.last_name = name.split(\" \")\n",
    "        \n",
    "    @full_name.deleter\n",
    "    def full_name(self):\n",
    "        print(\"You just deleted the name of employee!!!\")\n",
    "        self.first_name = None\n",
    "        self.last_name = None\n",
    "    "
   ]
  },
  {
   "cell_type": "code",
   "execution_count": 252,
   "metadata": {
    "hidden": true
   },
   "outputs": [],
   "source": [
    "emp_1 = Employee(\"Jerry\", \"Mouse\", 60000)"
   ]
  },
  {
   "cell_type": "code",
   "execution_count": 253,
   "metadata": {
    "hidden": true
   },
   "outputs": [
    {
     "data": {
      "text/plain": [
       "'Jerry.Mouse@inexture.com'"
      ]
     },
     "execution_count": 253,
     "metadata": {},
     "output_type": "execute_result"
    }
   ],
   "source": [
    "emp_1.email"
   ]
  },
  {
   "cell_type": "code",
   "execution_count": 254,
   "metadata": {
    "hidden": true
   },
   "outputs": [],
   "source": [
    "emp_1.full_name = \"Tom Cat\""
   ]
  },
  {
   "cell_type": "code",
   "execution_count": 255,
   "metadata": {
    "hidden": true
   },
   "outputs": [
    {
     "data": {
      "text/plain": [
       "'Tom Cat'"
      ]
     },
     "execution_count": 255,
     "metadata": {},
     "output_type": "execute_result"
    }
   ],
   "source": [
    "emp_1.full_name"
   ]
  },
  {
   "cell_type": "code",
   "execution_count": 256,
   "metadata": {
    "hidden": true
   },
   "outputs": [
    {
     "data": {
      "text/plain": [
       "'Tom.Cat@inexture.com'"
      ]
     },
     "execution_count": 256,
     "metadata": {},
     "output_type": "execute_result"
    }
   ],
   "source": [
    "emp_1.email"
   ]
  },
  {
   "cell_type": "code",
   "execution_count": 257,
   "metadata": {
    "hidden": true
   },
   "outputs": [
    {
     "name": "stdout",
     "output_type": "stream",
     "text": [
      "You just deleted the name of employee!!!\n"
     ]
    }
   ],
   "source": [
    "del emp_1.full_name"
   ]
  }
 ],
 "metadata": {
  "kernelspec": {
   "display_name": "Python 3 (ipykernel)",
   "language": "python",
   "name": "python3"
  },
  "language_info": {
   "codemirror_mode": {
    "name": "ipython",
    "version": 3
   },
   "file_extension": ".py",
   "mimetype": "text/x-python",
   "name": "python",
   "nbconvert_exporter": "python",
   "pygments_lexer": "ipython3",
   "version": "3.8.10"
  },
  "toc": {
   "base_numbering": 1,
   "nav_menu": {},
   "number_sections": true,
   "sideBar": true,
   "skip_h1_title": false,
   "title_cell": "Table of Contents",
   "title_sidebar": "Contents",
   "toc_cell": false,
   "toc_position": {},
   "toc_section_display": true,
   "toc_window_display": false
  }
 },
 "nbformat": 4,
 "nbformat_minor": 2
}
