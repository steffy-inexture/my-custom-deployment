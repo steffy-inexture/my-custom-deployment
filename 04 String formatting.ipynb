{
 "cells": [
  {
   "cell_type": "markdown",
   "metadata": {},
   "source": [
    "# format() method"
   ]
  },
  {
   "cell_type": "code",
   "execution_count": 1,
   "metadata": {},
   "outputs": [
    {
     "name": "stdout",
     "output_type": "stream",
     "text": [
      "Let's replaces these curly braces with some value\n"
     ]
    }
   ],
   "source": [
    "print(\"Let's replaces these {} with some value\".format(\"curly braces\"))"
   ]
  },
  {
   "cell_type": "code",
   "execution_count": 2,
   "metadata": {},
   "outputs": [
    {
     "name": "stdout",
     "output_type": "stream",
     "text": [
      "What if I have 1 and 2 braces\n"
     ]
    }
   ],
   "source": [
    "print(\"What if I have {} and {} braces\".format(1, 2))"
   ]
  },
  {
   "cell_type": "code",
   "execution_count": 3,
   "metadata": {},
   "outputs": [
    {
     "name": "stdout",
     "output_type": "stream",
     "text": [
      "I need a variable here\n"
     ]
    }
   ],
   "source": [
    "a = \"variable\"\n",
    "print(\"I need a {} here\".format(a))"
   ]
  },
  {
   "cell_type": "code",
   "execution_count": 4,
   "metadata": {},
   "outputs": [
    {
     "name": "stdout",
     "output_type": "stream",
     "text": [
      "print first here: 1\n",
      "\n",
      "and second here: 2\n"
     ]
    }
   ],
   "source": [
    "first = 1\n",
    "second = 2\n",
    "print(\"print first here: {}\\n\\nand second here: {}\".format(first, second))"
   ]
  },
  {
   "cell_type": "code",
   "execution_count": 6,
   "metadata": {},
   "outputs": [
    {
     "name": "stdout",
     "output_type": "stream",
     "text": [
      "Positional second here: 2\n",
      "\n",
      "Positional first here: 1\n"
     ]
    }
   ],
   "source": [
    "print(\"Positional second here: {1}\\n\\nPositional first here: {0}\".format(first, second))"
   ]
  },
  {
   "cell_type": "code",
   "execution_count": 7,
   "metadata": {},
   "outputs": [
    {
     "name": "stdout",
     "output_type": "stream",
     "text": [
      "You can literally put anything here: [{'first': 1, 'second': 2}, {'first_of_second': 1, 'second_of_second': 2}]\n"
     ]
    }
   ],
   "source": [
    "a_list_of_dictionaries = [{\"first\": 1, \"second\": 2}, {\"first_of_second\": 1, \"second_of_second\": 2}]\n",
    "print(\"You can literally put anything here: {}\".format(a_list_of_dictionaries))"
   ]
  },
  {
   "cell_type": "markdown",
   "metadata": {},
   "source": [
    "## conversion flags"
   ]
  },
  {
   "cell_type": "code",
   "execution_count": 8,
   "metadata": {},
   "outputs": [
    {
     "name": "stdout",
     "output_type": "stream",
     "text": [
      "Convert it to string before you replace [1, 2, 'µ']\n",
      "Bring out the holy [1, 2, 'µ']\n",
      "More [1, 2, '\\xb5']\n",
      "For only 49.35 dollars!\n"
     ]
    }
   ],
   "source": [
    "a = [1, 2, \"µ\"]\n",
    "print(\"Convert it to string before you replace {0!s}\".format(a))        # Calls str() on the argument first\n",
    "print(\"Bring out the holy {arg!r}\".format(arg=a))                       # Calls repr() on the argument first\n",
    "print(\"More {!a}\".format(a))                                            # Calls ascii() on the argument first\n",
    "txt = \"For only {price:.2f} dollars!\"\n",
    "print(txt.format(price = 49.348972))"
   ]
  },
  {
   "cell_type": "markdown",
   "metadata": {},
   "source": [
    "## Formatting Types"
   ]
  },
  {
   "cell_type": "code",
   "execution_count": 9,
   "metadata": {},
   "outputs": [
    {
     "name": "stdout",
     "output_type": "stream",
     "text": [
      "This is left aligend              string\n"
     ]
    }
   ],
   "source": [
    "a = \"This is left {:<20} string\"\n",
    "print(a.format(\"aligend\"))"
   ]
  },
  {
   "cell_type": "code",
   "execution_count": 11,
   "metadata": {},
   "outputs": [
    {
     "name": "stdout",
     "output_type": "stream",
     "text": [
      "This is right              aligned string\n"
     ]
    }
   ],
   "source": [
    "txt = \"This is right {:>20} string\"\n",
    "print(txt.format(\"aligned\"))"
   ]
  },
  {
   "cell_type": "code",
   "execution_count": 42,
   "metadata": {},
   "outputs": [
    {
     "name": "stdout",
     "output_type": "stream",
     "text": [
      "This is center       aligned        string\n"
     ]
    }
   ],
   "source": [
    "txt = \"This is center {:^20} string\"\n",
    "print(txt.format(\"aligned\"))"
   ]
  },
  {
   "cell_type": "markdown",
   "metadata": {},
   "source": [
    "### Useful links\n",
    "\n",
    "- [DOC](https://docs.python.org/3.7/tutorial/inputoutput.html#fancier-output-formatting)\n",
    "- [w3](https://www.w3schools.com/python/ref_string_format.asp)"
   ]
  },
  {
   "cell_type": "markdown",
   "metadata": {},
   "source": [
    "# String Interpolation / f-Strings (Python 3.6+)"
   ]
  },
  {
   "cell_type": "code",
   "execution_count": 12,
   "metadata": {},
   "outputs": [
    {
     "name": "stdout",
     "output_type": "stream",
     "text": [
      "Hello, python!\n"
     ]
    }
   ],
   "source": [
    "name = \"python\"\n",
    "print(f'Hello, {name}!')"
   ]
  },
  {
   "cell_type": "code",
   "execution_count": 13,
   "metadata": {},
   "outputs": [
    {
     "name": "stdout",
     "output_type": "stream",
     "text": [
      "10 ** 3 = 1000\n"
     ]
    }
   ],
   "source": [
    "a = 10\n",
    "b = 3\n",
    "print(f\"10 ** 3 = {a**b}\")"
   ]
  },
  {
   "cell_type": "markdown",
   "metadata": {},
   "source": [
    "- Above strings get transformed into the following\n",
    "1. **\"hello\" + name + \"!\"**\n",
    "2. **\"10 \\*\\* 3 = \" a \\*\\* b**"
   ]
  },
  {
   "cell_type": "markdown",
   "metadata": {},
   "source": [
    "# Template Strings\n",
    "\n",
    "- It’s a simpler and less powerful mechanism"
   ]
  },
  {
   "cell_type": "code",
   "execution_count": 14,
   "metadata": {},
   "outputs": [
    {
     "name": "stdout",
     "output_type": "stream",
     "text": [
      "We can put a variable with dollar prefix and use them later, creating a template\n"
     ]
    }
   ],
   "source": [
    "from string import Template\n",
    "\n",
    "a = \"a variable\"\n",
    "b = \"dollar\"\n",
    "\n",
    "my_string = Template(\"We can put $a with $b prefix and use them later, creating a template\")\n",
    "print(my_string.substitute(a=a, b=b))"
   ]
  },
  {
   "cell_type": "markdown",
   "metadata": {},
   "source": [
    "# What to use and when?"
   ]
  },
  {
   "cell_type": "markdown",
   "metadata": {},
   "source": [
    "![title](images/string_format.png)"
   ]
  }
 ],
 "metadata": {
  "kernelspec": {
   "display_name": "Python 3",
   "language": "python",
   "name": "python3"
  },
  "language_info": {
   "codemirror_mode": {
    "name": "ipython",
    "version": 3
   },
   "file_extension": ".py",
   "mimetype": "text/x-python",
   "name": "python",
   "nbconvert_exporter": "python",
   "pygments_lexer": "ipython3",
   "version": "3.8.3"
  },
  "toc": {
   "base_numbering": 1,
   "nav_menu": {},
   "number_sections": true,
   "sideBar": true,
   "skip_h1_title": false,
   "title_cell": "Table of Contents",
   "title_sidebar": "Contents",
   "toc_cell": false,
   "toc_position": {},
   "toc_section_display": true,
   "toc_window_display": false
  }
 },
 "nbformat": 4,
 "nbformat_minor": 2
}
